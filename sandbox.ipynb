{
 "cells": [
  {
   "cell_type": "code",
   "execution_count": 2,
   "id": "7f6381d5",
   "metadata": {},
   "outputs": [
    {
     "name": "stdout",
     "output_type": "stream",
     "text": [
      "Center Longitude: 8.03794241015423\n",
      "UTM Zone: 32\n",
      "UTM CRS: EPSG:32632\n",
      "Transforming DEM to the correct UTM CRS...\n",
      "Transformation complete.\n"
     ]
    }
   ],
   "source": [
    "import rasterio\n",
    "import numpy as np\n",
    "import baseline_comparison as bs\n",
    "import matplotlib.pyplot as plt\n",
    "import numexpr as ne\n",
    "\n",
    "dem_file = \"input_data/alletch_tip_wgs84.tif\"\n",
    "satellite_file = \"input_data/ICEYE_X2_SLC_SLEA_1000466_20220904T093630.xml\"\n",
    "\n",
    "import utility\n",
    "\n",
    "dem, crs, src_transform = utility.wgs2utm(dem_file)"
   ]
  },
  {
   "cell_type": "code",
   "execution_count": null,
   "id": "a2f7741f",
   "metadata": {},
   "outputs": [],
   "source": [
    "dem_file = \"input_data/swissALTI3D2019_clip.tif\"\n",
    "satellite_file = \"input_data/ICEYE_X2_SLC_SLEA_1000466_20220904T093630.xml\"\n"
   ]
  },
  {
   "cell_type": "code",
   "execution_count": null,
   "id": "87b0be2f",
   "metadata": {},
   "outputs": [],
   "source": [
    "# read the DEM file\n",
    "with rasterio.open(dem_file) as src:\n",
    "    print(\"reading dem file\")\n",
    "\n",
    "    transform = src.transform\n",
    "    crs = src.crs\n",
    "    print(crs)\n",
    "\n"
   ]
  },
  {
   "cell_type": "code",
   "execution_count": null,
   "id": "3873b397",
   "metadata": {},
   "outputs": [],
   "source": [
    "import utility\n",
    "\n",
    "dem = utility.wgs2utm(dem_file)"
   ]
  },
  {
   "cell_type": "code",
   "execution_count": null,
   "id": "9d050548",
   "metadata": {},
   "outputs": [],
   "source": [
    "# Export the DEM to a TIFF file\n",
    "output_file = \"results/exported_dem.tif\"\n",
    "\n",
    "with rasterio.open(\n",
    "    output_file,\n",
    "    'w',\n",
    "    driver='GTiff',\n",
    "    height=dem[0].shape[0],\n",
    "    width=dem[0].shape[1],\n",
    "    count=1,\n",
    "    dtype=dem[0].dtype,\n",
    "    crs=dem[1],\n",
    "    transform=dem[2]\n",
    ") as dst:\n",
    "    dst.write(dem[0], 1)\n",
    "\n",
    "print(f\"DEM exported to {output_file}\")"
   ]
  },
  {
   "cell_type": "code",
   "execution_count": null,
   "id": "a936fbd8",
   "metadata": {},
   "outputs": [],
   "source": []
  },
  {
   "cell_type": "code",
   "execution_count": null,
   "id": "89dda4bc",
   "metadata": {},
   "outputs": [],
   "source": [
    "# get the coordinates\n",
    "print(\"extracting coordinates\")\n",
    "rows, cols = dem.shape\n",
    "x_coords = np.arange(cols) * transform.a + transform.c\n",
    "y_coords = np.arange(rows) * transform.e + transform.f\n",
    "X, Y = np.meshgrid(x_coords, y_coords)\n",
    "Z = dem"
   ]
  },
  {
   "cell_type": "code",
   "execution_count": null,
   "id": "c1dd7372",
   "metadata": {},
   "outputs": [],
   "source": [
    "X"
   ]
  }
 ],
 "metadata": {
  "kernelspec": {
   "display_name": "general",
   "language": "python",
   "name": "python3"
  },
  "language_info": {
   "codemirror_mode": {
    "name": "ipython",
    "version": 3
   },
   "file_extension": ".py",
   "mimetype": "text/x-python",
   "name": "python",
   "nbconvert_exporter": "python",
   "pygments_lexer": "ipython3",
   "version": "3.11.11"
  }
 },
 "nbformat": 4,
 "nbformat_minor": 5
}
